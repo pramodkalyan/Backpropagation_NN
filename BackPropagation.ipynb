{
 "cells": [
  {
   "cell_type": "code",
   "execution_count": 49,
   "metadata": {},
   "outputs": [],
   "source": [
    "import numpy as np"
   ]
  },
  {
   "cell_type": "code",
   "execution_count": 50,
   "metadata": {},
   "outputs": [],
   "source": [
    "x = np.array([[0,0,1],[0,1,1],[1,0,1],[1,1,1]])\n",
    "y = np.array([[1,0,1,0]])"
   ]
  },
  {
   "cell_type": "code",
   "execution_count": 51,
   "metadata": {},
   "outputs": [],
   "source": [
    "def sigmoid(x):\n",
    "    return 1/(1+np.exp(-x))"
   ]
  },
  {
   "cell_type": "code",
   "execution_count": 52,
   "metadata": {},
   "outputs": [],
   "source": [
    "def sigmderv(x):\n",
    "    return x*(1-x)"
   ]
  },
  {
   "cell_type": "code",
   "execution_count": 53,
   "metadata": {},
   "outputs": [],
   "source": [
    "weights = []\n",
    "biases = []\n",
    "num_layers = 0"
   ]
  },
  {
   "cell_type": "code",
   "execution_count": 54,
   "metadata": {},
   "outputs": [],
   "source": [
    "def create_model(sizes):\n",
    "    #[3,4,4,1]\n",
    "    global weights;\n",
    "    global biases;\n",
    "    global num_layers;\n",
    "    num_layers = len(sizes)\n",
    "    weights = [np.random.randn(x,y)\n",
    "                        for x, y in zip(sizes[:-1], sizes[1:])]\n",
    "    biases = [np.random.randn(y, 1) for y in sizes[1:]]"
   ]
  },
  {
   "cell_type": "code",
   "execution_count": 55,
   "metadata": {},
   "outputs": [],
   "source": [
    "create_model([3,4,4,1])"
   ]
  },
  {
   "cell_type": "code",
   "execution_count": 56,
   "metadata": {},
   "outputs": [
    {
     "data": {
      "text/plain": [
       "[array([[ 0.16100142, -0.65693829, -1.08923779,  1.35234817],\n",
       "        [ 0.27528499,  2.06833832,  0.70317636, -0.0494222 ],\n",
       "        [-1.39786887, -0.90130607, -0.40360762, -0.39367895]]),\n",
       " array([[ 1.3142819 , -0.7618112 ,  0.26683071, -0.1260576 ],\n",
       "        [-0.49595643, -0.05344883,  0.60568252, -0.22009898],\n",
       "        [ 0.34805806, -0.2590417 ,  1.54720759,  1.13242332],\n",
       "        [-1.26349418, -0.75339679,  0.79945277,  0.66890174]]),\n",
       " array([[ 0.41146973],\n",
       "        [-3.08452393],\n",
       "        [ 0.36968189],\n",
       "        [-1.79884911]])]"
      ]
     },
     "execution_count": 56,
     "metadata": {},
     "output_type": "execute_result"
    }
   ],
   "source": [
    "weights"
   ]
  },
  {
   "cell_type": "code",
   "execution_count": 57,
   "metadata": {},
   "outputs": [],
   "source": [
    "activations = [x]\n",
    "scores = []"
   ]
  },
  {
   "cell_type": "code",
   "execution_count": 58,
   "metadata": {},
   "outputs": [],
   "source": [
    "def forwardPass():\n",
    "    global weights;\n",
    "    global biases;\n",
    "    global activations;\n",
    "    activation = x\n",
    "    for w,b in zip(weights,biases):\n",
    "        z = np.dot(activation,w)+b\n",
    "        activation = sigmoid(z)\n",
    "        activations.append(activation)\n",
    "    #print(activations[-1])\n",
    "        \n"
   ]
  },
  {
   "cell_type": "code",
   "execution_count": 59,
   "metadata": {},
   "outputs": [
    {
     "name": "stdout",
     "output_type": "stream",
     "text": [
      "[[0.99441112]\n",
      " [0.00377174]\n",
      " [0.99474816]\n",
      " [0.00433328]]\n"
     ]
    }
   ],
   "source": [
    "for iter in range(10000):\n",
    "    forwardPass()\n",
    "    delta = (activations[-1]-y.T)*sigmderv(activations[-1])\n",
    "    w_grads = [np.zeros(w.shape) for w in weights]\n",
    "    b_grads = [np.zeros(b.shape) for b in biases]\n",
    "    b_grads[-1] = delta\n",
    "    w_grads[-1] = np.dot(activations[-2].T,delta)\n",
    "    for layer in range(2,num_layers):\n",
    "        #print(layer)\n",
    "        #print(\"DB\",delta)\n",
    "        #print(\"weights[-layer+1].T):\",weights[-layer+1].T)\n",
    "        #print(\"activations[-layer-1]\",activations[-layer-1])\n",
    "        delta = np.dot(delta,weights[-layer+1].T)*sigmderv(activations[-layer])\n",
    "        b_grads[-layer] = delta\n",
    "        w_grads[-layer] = np.dot(activations[-layer-1].T,delta)\n",
    "            \n",
    "    weights = [w-dw for w,dw in zip(weights,w_grads)]\n",
    "    biases = [b-db for b,db in zip(biases,b_grads)]\n",
    "    \n",
    "print(activations[-1])"
   ]
  },
  {
   "cell_type": "code",
   "execution_count": null,
   "metadata": {},
   "outputs": [],
   "source": []
  }
 ],
 "metadata": {
  "kernelspec": {
   "display_name": "Python 3",
   "language": "python",
   "name": "python3"
  },
  "language_info": {
   "codemirror_mode": {
    "name": "ipython",
    "version": 3
   },
   "file_extension": ".py",
   "mimetype": "text/x-python",
   "name": "python",
   "nbconvert_exporter": "python",
   "pygments_lexer": "ipython3",
   "version": "3.7.3"
  }
 },
 "nbformat": 4,
 "nbformat_minor": 2
}
